{
  "nbformat": 4,
  "nbformat_minor": 0,
  "metadata": {
    "colab": {
      "name": "sentence_processing.ipynb",
      "provenance": [],
      "collapsed_sections": [],
      "include_colab_link": true
    },
    "kernelspec": {
      "name": "python3",
      "display_name": "Python 3"
    }
  },
  "cells": [
    {
      "cell_type": "markdown",
      "metadata": {
        "id": "view-in-github",
        "colab_type": "text"
      },
      "source": [
        "<a href=\"https://colab.research.google.com/github/Basifrank/Team-Go/blob/Dev_Spyder/sentence_processing.ipynb\" target=\"_parent\"><img src=\"https://colab.research.google.com/assets/colab-badge.svg\" alt=\"Open In Colab\"/></a>"
      ]
    },
    {
      "cell_type": "code",
      "metadata": {
        "id": "22YFJgT5Hh8y",
        "colab_type": "code",
        "outputId": "dfeffe3b-9976-4777-ff0e-3dd9e24ce7bc",
        "colab": {
          "base_uri": "https://localhost:8080/",
          "height": 122
        }
      },
      "source": [
        "from google.colab import drive\n",
        "drive.mount('/content/drive')"
      ],
      "execution_count": 0,
      "outputs": [
        {
          "output_type": "stream",
          "text": [
            "Go to this URL in a browser: https://accounts.google.com/o/oauth2/auth?client_id=947318989803-6bn6qk8qdgf4n4g3pfee6491hc0brc4i.apps.googleusercontent.com&redirect_uri=urn%3Aietf%3Awg%3Aoauth%3A2.0%3Aoob&scope=email%20https%3A%2F%2Fwww.googleapis.com%2Fauth%2Fdocs.test%20https%3A%2F%2Fwww.googleapis.com%2Fauth%2Fdrive%20https%3A%2F%2Fwww.googleapis.com%2Fauth%2Fdrive.photos.readonly%20https%3A%2F%2Fwww.googleapis.com%2Fauth%2Fpeopleapi.readonly&response_type=code\n",
            "\n",
            "Enter your authorization code:\n",
            "··········\n",
            "Mounted at /content/drive\n"
          ],
          "name": "stdout"
        }
      ]
    },
    {
      "cell_type": "code",
      "metadata": {
        "id": "Rj0IskmvNOFG",
        "colab_type": "code",
        "colab": {}
      },
      "source": [
        "article = \"The university was founded in 1885 by Leland and Jane Stanford in memory of \\\n",
        "their only child, Leland Stanford Jr., who had died of typhoid fever at age 15 the previous \\\n",
        "year. Stanford was a former Governor of California and U.S. Senator; he made his fortune as a railroad tycoon. \\\n",
        "The school admitted its first students on October 1, 1891,[2][3] as a coeducational and non-denominational institution.\""
      ],
      "execution_count": 0,
      "outputs": []
    },
    {
      "cell_type": "code",
      "metadata": {
        "id": "yfFZ6DRgENnx",
        "colab_type": "code",
        "colab": {
          "base_uri": "https://localhost:8080/",
          "height": 221
        },
        "outputId": "3ef67504-4b5c-4451-b69a-f52dab571098"
      },
      "source": [
        "import spacy\n",
        "\n",
        "spacy_nlp = spacy.load('en')\n",
        "nlp = spacy.load(\"en_core_web_sm\")\n",
        "\n",
        "from spacy import displacy\n",
        "from collections import Counter\n",
        "import en_core_web_sm\n",
        "nlp2 = en_core_web_sm.load()\n",
        "\n",
        "import nltk\n",
        "\n",
        "print('NLTK version: %s' % (nltk.__version__))\n",
        "from nltk  import word_tokenize,pos_tag,ne_chunk\n",
        "nltk.download('words')\n",
        "nltk.download('averaged_perceptron_tagger')\n",
        "nltk.download('punkt')\n",
        "nltk.download('maxent_ne_chunker')"
      ],
      "execution_count": 43,
      "outputs": [
        {
          "output_type": "stream",
          "text": [
            "NLTK version: 3.2.5\n",
            "[nltk_data] Downloading package words to /root/nltk_data...\n",
            "[nltk_data]   Unzipping corpora/words.zip.\n",
            "[nltk_data] Downloading package averaged_perceptron_tagger to\n",
            "[nltk_data]     /root/nltk_data...\n",
            "[nltk_data]   Unzipping taggers/averaged_perceptron_tagger.zip.\n",
            "[nltk_data] Downloading package punkt to /root/nltk_data...\n",
            "[nltk_data]   Unzipping tokenizers/punkt.zip.\n",
            "[nltk_data] Downloading package maxent_ne_chunker to\n",
            "[nltk_data]     /root/nltk_data...\n",
            "[nltk_data]   Unzipping chunkers/maxent_ne_chunker.zip.\n"
          ],
          "name": "stdout"
        },
        {
          "output_type": "execute_result",
          "data": {
            "text/plain": [
              "True"
            ]
          },
          "metadata": {
            "tags": []
          },
          "execution_count": 43
        }
      ]
    },
    {
      "cell_type": "code",
      "metadata": {
        "id": "rcS2XMsPNOZu",
        "colab_type": "code",
        "outputId": "ee561efc-eff1-47ef-e53b-88b3345550e6",
        "colab": {
          "base_uri": "https://localhost:8080/",
          "height": 224
        }
      },
      "source": [
        "document = spacy_nlp(article)\n",
        "print('Original Sentence: %s' % (article))\n",
        "for element in document.ents:\n",
        "    print((element.label_, element))"
      ],
      "execution_count": 0,
      "outputs": [
        {
          "output_type": "stream",
          "text": [
            "Original Sentence: The university was founded in 1885 by Leland and Jane Stanford in memory of their only child, Leland Stanford Jr., who had died of typhoid fever at age 15 the previous year. Stanford was a former Governor of California and U.S. Senator; he made his fortune as a railroad tycoon. The school admitted its first students on October 1, 1891,[2][3] as a coeducational and non-denominational institution.\n",
            "('DATE', 1885)\n",
            "('GPE', Leland)\n",
            "('PERSON', Jane Stanford)\n",
            "('PERSON', Leland Stanford Jr.)\n",
            "('DATE', age 15 the previous year)\n",
            "('PERSON', Stanford)\n",
            "('GPE', California)\n",
            "('GPE', U.S.)\n",
            "('ORDINAL', first)\n",
            "('DATE', October 1)\n"
          ],
          "name": "stdout"
        }
      ]
    },
    {
      "cell_type": "code",
      "metadata": {
        "id": "gu_5GcOsNLFI",
        "colab_type": "code",
        "outputId": "c97fd149-0f7b-4fa1-db95-a8ff21ed4fcf",
        "colab": {
          "base_uri": "https://localhost:8080/",
          "height": 34
        }
      },
      "source": [
        "def return_name(document):\n",
        "  for element in document.ents:\n",
        "    if element.label == 'PERSON':\n",
        "      return element.text\n",
        "\n",
        "print(return_name(document))\n",
        "      "
      ],
      "execution_count": 0,
      "outputs": [
        {
          "output_type": "stream",
          "text": [
            "None\n"
          ],
          "name": "stdout"
        }
      ]
    },
    {
      "cell_type": "code",
      "metadata": {
        "id": "KfiKPDyYXwev",
        "colab_type": "code",
        "outputId": "10bc0609-ff6a-45f4-d272-a8daab7b9bd6",
        "colab": {
          "base_uri": "https://localhost:8080/",
          "height": 51
        }
      },
      "source": [
        "labels = []\n",
        "labels2 = []\n",
        "for element in document.ents:\n",
        "  labels.append(element.text)\n",
        "  labels2.append(element.label_)\n",
        "print(labels)\n",
        "print(labels2)\n",
        "squares = {}\n",
        "for x in range(6):\n",
        "   squares[x] = x*x"
      ],
      "execution_count": 0,
      "outputs": [
        {
          "output_type": "stream",
          "text": [
            "['1885', 'Leland', 'Jane Stanford', 'Leland Stanford Jr.', 'age 15 the previous year', 'Stanford', 'California', 'U.S.', 'first', 'October 1']\n",
            "['DATE', 'GPE', 'PERSON', 'PERSON', 'DATE', 'PERSON', 'GPE', 'GPE', 'ORDINAL', 'DATE']\n"
          ],
          "name": "stdout"
        }
      ]
    },
    {
      "cell_type": "code",
      "metadata": {
        "id": "iGVb_Ht-Xwzj",
        "colab_type": "code",
        "outputId": "9b366120-80ed-447e-b8c3-370c6896d148",
        "colab": {
          "base_uri": "https://localhost:8080/",
          "height": 54
        }
      },
      "source": [
        "doc2 = nlp(\"Larry Page founded Google\")\n",
        "doc = nlp2(\"John authorize Google to be fined a record $5.1 billion on Wednesday for abusing its power in the mobile phone market and ordered the company to alter its practices\")\n",
        "# Text and label of named entity span\n",
        "\n",
        "data2 = [(ent.text, ent.label_) for ent in document.ents]\n",
        "\n",
        "print(data2)\n",
        "#print(data2[1])\n",
        "# [('Larry Page', 'PERSON'), ('Google', 'ORG')]"
      ],
      "execution_count": 0,
      "outputs": [
        {
          "output_type": "stream",
          "text": [
            "[('1885', 'DATE'), ('Leland', 'GPE'), ('Jane Stanford', 'PERSON'), ('Leland Stanford Jr.', 'PERSON'), ('age 15 the previous year', 'DATE'), ('Stanford', 'PERSON'), ('California', 'GPE'), ('U.S.', 'GPE'), ('first', 'ORDINAL'), ('October 1', 'DATE')]\n"
          ],
          "name": "stdout"
        }
      ]
    },
    {
      "cell_type": "code",
      "metadata": {
        "id": "uzn3D2N2t4Ol",
        "colab_type": "code",
        "outputId": "7e62a109-c275-48fd-f368-38ee5c60a48b",
        "colab": {
          "base_uri": "https://localhost:8080/",
          "height": 51
        }
      },
      "source": [
        "labels3 = {}\n",
        "labels4 = []\n",
        "#for element in doc2.ents:\n",
        "for element in doc:\n",
        "  #labels3[element.label_] = element.text\n",
        "  labels3[element.ent_type_] = element\n",
        "  #labels2.append(element.label_)\n",
        "print(labels3)\n",
        "print(labels3.get('PERSON'))\n",
        "#print(labels2)\n",
        "#pprint([(X, X.ent_iob_, X.ent_type_) for X in doc])\n",
        "#squares = {}\n",
        "#for x in range(6):\n",
        " #  squares[x] = x*x"
      ],
      "execution_count": 0,
      "outputs": [
        {
          "output_type": "stream",
          "text": [
            "{'': practices, 'ORG': Google, 'MONEY': billion, 'DATE': Wednesday}\n",
            "None\n"
          ],
          "name": "stdout"
        }
      ]
    },
    {
      "cell_type": "code",
      "metadata": {
        "id": "80Mq4CIGt4de",
        "colab_type": "code",
        "outputId": "8c1486d4-b9fd-4b4e-b22a-22930b8d27aa",
        "colab": {
          "base_uri": "https://localhost:8080/",
          "height": 224
        }
      },
      "source": [
        "document2 = spacy_nlp(article)\n",
        "print('Original Sentence: %s' % (article))\n",
        "for element2 in document2.ents:\n",
        "  \n",
        "  labels3[element2.label_] = element2\n",
        "  #print(labels3)\n",
        "  print((element2.label_, element2))"
      ],
      "execution_count": 0,
      "outputs": [
        {
          "output_type": "stream",
          "text": [
            "Original Sentence: The university was founded in 1885 by Leland and Jane Stanford in memory of their only child, Leland Stanford Jr., who had died of typhoid fever at age 15 the previous year. Stanford was a former Governor of California and U.S. Senator; he made his fortune as a railroad tycoon. The school admitted its first students on October 1, 1891,[2][3] as a coeducational and non-denominational institution.\n",
            "('DATE', 1885)\n",
            "('GPE', Leland)\n",
            "('PERSON', Jane Stanford)\n",
            "('PERSON', Leland Stanford Jr.)\n",
            "('DATE', age 15 the previous year)\n",
            "('PERSON', Stanford)\n",
            "('GPE', California)\n",
            "('GPE', U.S.)\n",
            "('ORDINAL', first)\n",
            "('DATE', October 1)\n"
          ],
          "name": "stdout"
        }
      ]
    },
    {
      "cell_type": "code",
      "metadata": {
        "id": "O42mH5j955OL",
        "colab_type": "code",
        "colab": {}
      },
      "source": [
        "article2 = 'My name is Francis Obasi, I am data analyst, I live in lagos state, Nigeria and i work with Nigerian Breweries Plc'\n",
        "document3 = nlp2(article2)\n"
      ],
      "execution_count": 0,
      "outputs": []
    },
    {
      "cell_type": "code",
      "metadata": {
        "colab_type": "code",
        "outputId": "f79f01d3-76ed-499c-da98-996051392e80",
        "id": "qvt9-HYDBK70",
        "colab": {
          "base_uri": "https://localhost:8080/",
          "height": 68
        }
      },
      "source": [
        "data_dic = dict()\n",
        "def article_precess(document3):\n",
        "  for element in document3.ents:\n",
        "    data_dic[element.label_] = element\n",
        "    \n",
        "article_precess(document3)\n",
        "\n",
        "def get_items2():\n",
        "  print(' location ' ' = ' + str(data_dic.get('GPE')))\n",
        "  print(' Organization ' ' = ' + str(data_dic.get('ORG')))\n",
        "  print('Name '' = '+ str(data_dic.get('PERSON')))\n",
        "get_items2()"
      ],
      "execution_count": 76,
      "outputs": [
        {
          "output_type": "stream",
          "text": [
            " location  = Nigeria\n",
            " Organization  = Nigerian Breweries Plc\n",
            "Name  = Francis Obasi\n"
          ],
          "name": "stdout"
        }
      ]
    },
    {
      "cell_type": "code",
      "metadata": {
        "id": "9Ae7Jrp4Md_k",
        "colab_type": "code",
        "colab": {
          "base_uri": "https://localhost:8080/",
          "height": 68
        },
        "outputId": "d03238c6-501c-42c6-8677-22234a2e87ed"
      },
      "source": [
        "def article_precess(document3):\n",
        "  #document2 = nlp(article)\n",
        "  #print('Original Sentence: %s' % (article2))\n",
        "  for element in document3.ents:\n",
        "    data_dic = {}\n",
        "    #print((element.label_, element))\n",
        "    data_dic[element.label_] = element\n",
        "    for k, v in data_dic.items():\n",
        "      print(k, 'corresponds to',  v)\n",
        "\n",
        "    #location = data_dic.get('GPE')\n",
        "    #person_name = data_dic.get('PERSON')\n",
        "    #organization = data_dic.get('ORG')\n",
        "    #print(data_dic.items())\n",
        "    #print(' location ' ' = ' + str(location))\n",
        "    #print(' Organization ' ' = ' + str(organization))\n",
        "    #print('Name '' = '+ str(person_name))\n",
        "article_precess(document3)\n"
      ],
      "execution_count": 64,
      "outputs": [
        {
          "output_type": "stream",
          "text": [
            "PERSON corresponds to Francis Obasi\n",
            "GPE corresponds to Nigeria\n",
            "ORG corresponds to Nigerian Breweries Plc\n"
          ],
          "name": "stdout"
        }
      ]
    },
    {
      "cell_type": "code",
      "metadata": {
        "id": "vkaKpkbw55AV",
        "colab_type": "code",
        "colab": {
          "base_uri": "https://localhost:8080/",
          "height": 34
        },
        "outputId": "fac2ff84-3aa6-4b35-fdca-b0d0fcca0ecf"
      },
      "source": [
        "data_dic = dict()\n",
        "def article_precess(document3):\n",
        "  #document2 = nlp(article)\n",
        "  #print('Original Sentence: %s' % (article2))\n",
        "  for element in document3.ents:\n",
        "    \n",
        "    #print((element.label_, element))\n",
        "    data_dic[element.label_] = element\n",
        "    \n",
        "article_precess(document3)\n",
        "print(data_dic.get('GPE'))\n",
        "\n"
      ],
      "execution_count": 70,
      "outputs": [
        {
          "output_type": "stream",
          "text": [
            "Nigeria\n"
          ],
          "name": "stdout"
        }
      ]
    },
    {
      "cell_type": "code",
      "metadata": {
        "id": "imzT8kUw544p",
        "colab_type": "code",
        "colab": {}
      },
      "source": [
        ""
      ],
      "execution_count": 0,
      "outputs": []
    },
    {
      "cell_type": "code",
      "metadata": {
        "id": "rvEjUbiJ54qH",
        "colab_type": "code",
        "colab": {}
      },
      "source": [
        ""
      ],
      "execution_count": 0,
      "outputs": []
    },
    {
      "cell_type": "code",
      "metadata": {
        "id": "4yRuBC_oXxXE",
        "colab_type": "code",
        "colab": {}
      },
      "source": [
        ""
      ],
      "execution_count": 0,
      "outputs": []
    }
  ]
}